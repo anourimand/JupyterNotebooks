{
 "cells": [
  {
   "cell_type": "markdown",
   "metadata": {},
   "source": [
    "#### Project goal\n",
    "For the first part of my smart fridge retrofit Friget (come up with better name), one of the important aspects of doing this will be able to recognize food items using the camera of the device. Rather than training a whole computer recognition system, Google Cloud has a computer vision (Google Vision) Application which recognizes pictures. The labelling tool shows the labels of the images. To test this out, I will use the image of a cucumber to see if the code works. The following foundation code was copied from the google vision library.\n",
    "\n",
    "#### Multiple different API clients will be tested"
   ]
  },
  {
   "cell_type": "code",
   "execution_count": 1,
   "metadata": {},
   "outputs": [],
   "source": [
    "import os\n",
    "import io"
   ]
  },
  {
   "cell_type": "code",
   "execution_count": 2,
   "metadata": {},
   "outputs": [],
   "source": [
    "os.environ[\"GOOGLE_APPLICATION_CREDENTIALS\"]=\"C:/Users/Arash/Desktop/test/apikey3.json\""
   ]
  },
  {
   "cell_type": "code",
   "execution_count": 3,
   "metadata": {},
   "outputs": [],
   "source": [
    "from google.cloud import vision\n",
    "from google.cloud.vision import types"
   ]
  },
  {
   "cell_type": "code",
   "execution_count": 4,
   "metadata": {},
   "outputs": [],
   "source": [
    "client = vision.ImageAnnotatorClient()"
   ]
  },
  {
   "cell_type": "markdown",
   "metadata": {},
   "source": [
    "Image that will be analyzed FYI:"
   ]
  },
  {
   "cell_type": "code",
   "execution_count": 5,
   "metadata": {},
   "outputs": [
    {
     "data": {
      "text/html": [
       "<img src=\"cucumber.jpg\", width=200, height=200>\n"
      ],
      "text/plain": [
       "<IPython.core.display.HTML object>"
      ]
     },
     "metadata": {},
     "output_type": "display_data"
    }
   ],
   "source": [
    "%%html\n",
    "<img src=\"cucumber.jpg\", width=200, height=200>"
   ]
  },
  {
   "cell_type": "code",
   "execution_count": 6,
   "metadata": {
    "scrolled": true
   },
   "outputs": [
    {
     "name": "stdout",
     "output_type": "stream",
     "text": [
      "Labels:\n",
      "Classification:  Vegetable \n",
      "Confidence:  94.66 %\n",
      "\n",
      "\n",
      "Classification:  Cucumber \n",
      "Confidence:  94.31 %\n",
      "\n",
      "\n",
      "Classification:  Food \n",
      "Confidence:  91.85 %\n",
      "\n",
      "\n",
      "Classification:  Cucumis \n",
      "Confidence:  87.78 %\n",
      "\n",
      "\n",
      "Classification:  Plant \n",
      "Confidence:  87.39 %\n",
      "\n",
      "\n",
      "Classification:  Cucumber, gourd, and melon family \n",
      "Confidence:  83.34 %\n",
      "\n",
      "\n",
      "Classification:  Pepino \n",
      "Confidence:  83.2 %\n",
      "\n",
      "\n",
      "Classification:  Natural foods \n",
      "Confidence:  82.2 %\n",
      "\n",
      "\n",
      "Classification:  Produce \n",
      "Confidence:  78.15 %\n",
      "\n",
      "\n",
      "Classification:  Winter melon \n",
      "Confidence:  71.01 %\n",
      "\n",
      "\n"
     ]
    }
   ],
   "source": [
    "# The name of the image file to annotate\n",
    "file_name = 'C:/Users/Arash/Desktop/test/cucumber.jpg'\n",
    "\n",
    "# Loads the image into memory\n",
    "with io.open(file_name, 'rb') as image_file:\n",
    "    content = image_file.read()\n",
    "\n",
    "image = types.Image(content=content)\n",
    "\n",
    "# Performs label detection on the image file\n",
    "response = client.label_detection(image=image)\n",
    "labels = response.label_annotations\n",
    "\n",
    "print('Labels:')\n",
    "for label in labels:\n",
    "    print('Classification: ',label.description,'\\nConfidence: ', round(label.score*100,2),'%')\n",
    "    print(\"\\n\")"
   ]
  },
  {
   "cell_type": "markdown",
   "metadata": {},
   "source": [
    "The API is able to detect with a high degree of confidence that the cucumber is infact, a cucumber. But it is only the second option. I want to see what the vision API generates for a moldy cucumber\n",
    "\n",
    "Image to be displayed is below:"
   ]
  },
  {
   "cell_type": "code",
   "execution_count": 7,
   "metadata": {},
   "outputs": [
    {
     "data": {
      "text/html": [
       "<img src=\"mcucumber.jpg\", width=200, height=200>\n"
      ],
      "text/plain": [
       "<IPython.core.display.HTML object>"
      ]
     },
     "metadata": {},
     "output_type": "display_data"
    }
   ],
   "source": [
    "%%html\n",
    "<img src=\"mcucumber.jpg\", width=200, height=200>"
   ]
  },
  {
   "cell_type": "code",
   "execution_count": 8,
   "metadata": {},
   "outputs": [
    {
     "name": "stdout",
     "output_type": "stream",
     "text": [
      "Labels:\n",
      "Classification:  Vegetable \n",
      "Confidence:  87.42 %\n",
      "\n",
      "\n",
      "Classification:  Food \n",
      "Confidence:  86.53 %\n",
      "\n",
      "\n",
      "Classification:  Cucumis \n",
      "Confidence:  82.36 %\n",
      "\n",
      "\n",
      "Classification:  Cucumber \n",
      "Confidence:  76.98 %\n",
      "\n",
      "\n",
      "Classification:  Plant \n",
      "Confidence:  75.91 %\n",
      "\n",
      "\n",
      "Classification:  Cucumber, gourd, and melon family \n",
      "Confidence:  70.53 %\n",
      "\n",
      "\n",
      "Classification:  Snake gourd \n",
      "Confidence:  65.58 %\n",
      "\n",
      "\n",
      "Classification:  Produce \n",
      "Confidence:  62.51 %\n",
      "\n",
      "\n",
      "Classification:  Pepino \n",
      "Confidence:  59.82 %\n",
      "\n",
      "\n",
      "Classification:  Cuisine \n",
      "Confidence:  56.91 %\n",
      "\n",
      "\n"
     ]
    }
   ],
   "source": [
    "file2 = 'C:/Users/Arash/Desktop/test/mcucumber.jpg'\n",
    "with io.open(file2, 'rb') as image_file:\n",
    "    content = image_file.read()\n",
    "\n",
    "image2 = types.Image(content=content)\n",
    "\n",
    "# Performs label detection on the image file\n",
    "response = client.label_detection(image=image2)\n",
    "labels = response.label_annotations\n",
    "\n",
    "print('Labels:')\n",
    "for label in labels:\n",
    "    print('Classification: ',label.description,'\\nConfidence: ', round(label.score*100,2),'%')\n",
    "    print(\"\\n\")"
   ]
  },
  {
   "cell_type": "markdown",
   "metadata": {},
   "source": [
    "Moldiness was not measured by the Vision API. This indicates that the vision API will need to be trained to suit the purposes of this exercise."
   ]
  },
  {
   "cell_type": "markdown",
   "metadata": {},
   "source": [
    "# Lessons Learned\n",
    "\n",
    "Even though I am familiar with the syntax of python and have used it for different purposes, it was good to be able to connect to the Google Vision API and leverage the tool. I think this is a good first step to creating the tool"
   ]
  },
  {
   "cell_type": "code",
   "execution_count": null,
   "metadata": {},
   "outputs": [],
   "source": []
  }
 ],
 "metadata": {
  "kernelspec": {
   "display_name": "Python 3",
   "language": "python",
   "name": "python3"
  },
  "language_info": {
   "codemirror_mode": {
    "name": "ipython",
    "version": 3
   },
   "file_extension": ".py",
   "mimetype": "text/x-python",
   "name": "python",
   "nbconvert_exporter": "python",
   "pygments_lexer": "ipython3",
   "version": "3.7.3"
  }
 },
 "nbformat": 4,
 "nbformat_minor": 2
}
